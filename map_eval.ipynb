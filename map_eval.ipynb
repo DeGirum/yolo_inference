{
 "cells": [
  {
   "cell_type": "code",
   "execution_count": 1,
   "metadata": {},
   "outputs": [],
   "source": [
    "import degirum as dg\n",
    "from dg_eval_tools import *\n",
    "from pycocotools.coco import COCO\n",
    "from pycocotools.cocoeval import COCOeval\n",
    "from tqdm import tqdm\n",
    "from model import Model"
   ]
  },
  {
   "cell_type": "code",
   "execution_count": 2,
   "metadata": {},
   "outputs": [],
   "source": [
    "model_path = \"<path to model file>\"\n",
    "\n",
    "ground_truth_annotations_path = \"<path to ground json in coco format>\"\n",
    "image_folder_path = \"path to folder of validation images>\""
   ]
  },
  {
   "cell_type": "code",
   "execution_count": 3,
   "metadata": {},
   "outputs": [],
   "source": [
    "model = Model(model_path, labels='./dg_models/labels_coco.json')\n",
    "model.conf_threshold = 0.001\n",
    "model.iou_threshold = 0.6\n",
    "class_map = [1, 2, 3, 4, 5, 6, 7, 8, 9, 10, 11, 13, 14, 15, 16, 17, 18, 19, 20, 21, 22, 23, 24, 25, 27, 28, 31, 32, 33, 34,\n",
    "          35, 36, 37, 38, 39, 40, 41, 42, 43, 44, 46, 47, 48, 49, 50, 51, 52, 53, 54, 55, 56, 57, 58, 59, 60, 61, 62, 63,\n",
    "          64, 65, 67, 70, 72, 73, 74, 75, 76, 77, 78, 79, 80, 81, 82, 84, 85, 86, 87, 88, 89, 90]     "
   ]
  },
  {
   "cell_type": "code",
   "execution_count": 4,
   "metadata": {},
   "outputs": [
    {
     "name": "stdout",
     "output_type": "stream",
     "text": [
      "loading annotations into memory...\n",
      "Done (t=0.45s)\n",
      "creating index...\n",
      "index created!\n"
     ]
    },
    {
     "name": "stderr",
     "output_type": "stream",
     "text": [
      "100%|██████████| 5000/5000 [30:45<00:00,  2.71it/s]\n"
     ]
    }
   ],
   "source": [
    "anno=COCO(ground_truth_annotations_path)\n",
    "files_dict = anno.dataset[\"images\"]\n",
    "path_list = [os.path.join(image_folder_path, f[\"file_name\"]) for f in files_dict]\n",
    "img_ids = []\n",
    "\n",
    "jdict=[]\n",
    "for image_number, path in tqdm(enumerate(path_list), total=len(path_list)):\n",
    "    image_id = files_dict[image_number][\"id\"]\n",
    "    img_ids.append(image_id)\n",
    "    predictions = model(path)\n",
    "    save_results_coco_json(predictions.results,jdict,image_id,class_map)\n"
   ]
  },
  {
   "cell_type": "code",
   "execution_count": 5,
   "metadata": {},
   "outputs": [
    {
     "name": "stdout",
     "output_type": "stream",
     "text": [
      "Loading and preparing results...\n",
      "DONE (t=3.38s)\n",
      "creating index...\n",
      "index created!\n",
      "Running per image evaluation...\n",
      "Evaluate annotation type *bbox*\n",
      "DONE (t=34.13s).\n",
      "Accumulating evaluation results...\n",
      "DONE (t=6.21s).\n",
      " Average Precision  (AP) @[ IoU=0.50:0.95 | area=   all | maxDets=100 ] = 0.333\n",
      " Average Precision  (AP) @[ IoU=0.50      | area=   all | maxDets=100 ] = 0.483\n",
      " Average Precision  (AP) @[ IoU=0.75      | area=   all | maxDets=100 ] = 0.353\n",
      " Average Precision  (AP) @[ IoU=0.50:0.95 | area= small | maxDets=100 ] = 0.136\n",
      " Average Precision  (AP) @[ IoU=0.50:0.95 | area=medium | maxDets=100 ] = 0.365\n",
      " Average Precision  (AP) @[ IoU=0.50:0.95 | area= large | maxDets=100 ] = 0.488\n",
      " Average Recall     (AR) @[ IoU=0.50:0.95 | area=   all | maxDets=  1 ] = 0.276\n",
      " Average Recall     (AR) @[ IoU=0.50:0.95 | area=   all | maxDets= 10 ] = 0.437\n",
      " Average Recall     (AR) @[ IoU=0.50:0.95 | area=   all | maxDets=100 ] = 0.472\n",
      " Average Recall     (AR) @[ IoU=0.50:0.95 | area= small | maxDets=100 ] = 0.238\n",
      " Average Recall     (AR) @[ IoU=0.50:0.95 | area=medium | maxDets=100 ] = 0.526\n",
      " Average Recall     (AR) @[ IoU=0.50:0.95 | area= large | maxDets=100 ] = 0.637\n"
     ]
    }
   ],
   "source": [
    "pred_json = os.path.split(model_path)[-1].split('.')[0] + '_predictions.json'\n",
    "with open(pred_json, 'w+') as f:\n",
    "    json.dump(jdict, f)\n",
    "\n",
    "pred = anno.loadRes(pred_json)\n",
    "eval_obj = COCOeval(anno, pred, \"bbox\")\n",
    "eval_obj.params.imgIds = sorted(img_ids) # image IDs to evaluate\n",
    "eval_obj.evaluate()\n",
    "eval_obj.accumulate()\n",
    "eval_obj.summarize()"
   ]
  }
 ],
 "metadata": {
  "kernelspec": {
   "display_name": "devtools-venv",
   "language": "python",
   "name": "python3"
  },
  "language_info": {
   "codemirror_mode": {
    "name": "ipython",
    "version": 3
   },
   "file_extension": ".py",
   "mimetype": "text/x-python",
   "name": "python",
   "nbconvert_exporter": "python",
   "pygments_lexer": "ipython3",
   "version": "3.10.12"
  },
  "orig_nbformat": 4
 },
 "nbformat": 4,
 "nbformat_minor": 2
}
