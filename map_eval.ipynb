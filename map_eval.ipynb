{
 "cells": [
  {
   "cell_type": "code",
   "execution_count": 1,
   "metadata": {},
   "outputs": [],
   "source": [
    "import degirum as dg\n",
    "from dg_eval_tools import *\n",
    "from pycocotools.coco import COCO\n",
    "from pycocotools.cocoeval import COCOeval\n",
    "from tqdm import tqdm\n",
    "from model import Model"
   ]
  },
  {
   "cell_type": "code",
   "execution_count": 2,
   "metadata": {},
   "outputs": [],
   "source": [
    "model_path = \"./models/yolov8n_silu_float_6outs.onnx\"\n",
    "\n",
    "ground_truth_annotations_path = \"http://100.102.102.108:8084/coco/val/labels.json\"\n",
    "image_folder_path = \"http://100.102.102.108:8084/coco/val/data/\""
   ]
  },
  {
   "cell_type": "code",
   "execution_count": 3,
   "metadata": {},
   "outputs": [],
   "source": [
    "model = Model(model_path, labels='./labels_coco.json')\n",
    "model.conf_threshold = 0.001\n",
    "model.iou_threshold = 0.6\n",
    "class_map = [1, 2, 3, 4, 5, 6, 7, 8, 9, 10, 11, 13, 14, 15, 16, 17, 18, 19, 20, 21, 22, 23, 24, 25, 27, 28, 31, 32, 33, 34,\n",
    "          35, 36, 37, 38, 39, 40, 41, 42, 43, 44, 46, 47, 48, 49, 50, 51, 52, 53, 54, 55, 56, 57, 58, 59, 60, 61, 62, 63,\n",
    "          64, 65, 67, 70, 72, 73, 74, 75, 76, 77, 78, 79, 80, 81, 82, 84, 85, 86, 87, 88, 89, 90]     "
   ]
  },
  {
   "cell_type": "code",
   "execution_count": 4,
   "metadata": {},
   "outputs": [
    {
     "name": "stdout",
     "output_type": "stream",
     "text": [
      "loading annotations into memory...\n",
      "Done (t=0.44s)\n",
      "creating index...\n",
      "index created!\n"
     ]
    },
    {
     "name": "stderr",
     "output_type": "stream",
     "text": [
      "100%|██████████| 5000/5000 [12:07<00:00,  6.88it/s]\n"
     ]
    }
   ],
   "source": [
    "with annotations_accessor(ground_truth_annotations_path) as annotations_file:\n",
    "    anno = COCO(annotations_file)\n",
    "\n",
    "files_dict = anno.dataset[\"images\"]\n",
    "path_list = [os.path.join(image_folder_path, f[\"file_name\"]) for f in files_dict]\n",
    "img_ids = []\n",
    "\n",
    "jdict=[]\n",
    "for image_number, path in tqdm(enumerate(path_list), total=len(path_list)):\n",
    "    image_id = files_dict[image_number][\"id\"]\n",
    "    img_ids.append(image_id)\n",
    "    predictions = model(path)\n",
    "    save_results_coco_json(predictions.results,jdict,image_id,class_map)\n"
   ]
  },
  {
   "cell_type": "code",
   "execution_count": 5,
   "metadata": {},
   "outputs": [
    {
     "name": "stdout",
     "output_type": "stream",
     "text": [
      "Loading and preparing results...\n",
      "DONE (t=3.38s)\n",
      "creating index...\n",
      "index created!\n",
      "Running per image evaluation...\n",
      "Evaluate annotation type *bbox*\n",
      "DONE (t=33.57s).\n",
      "Accumulating evaluation results...\n",
      "DONE (t=5.82s).\n",
      " Average Precision  (AP) @[ IoU=0.50:0.95 | area=   all | maxDets=100 ] = 0.349\n",
      " Average Precision  (AP) @[ IoU=0.50      | area=   all | maxDets=100 ] = 0.503\n",
      " Average Precision  (AP) @[ IoU=0.75      | area=   all | maxDets=100 ] = 0.371\n",
      " Average Precision  (AP) @[ IoU=0.50:0.95 | area= small | maxDets=100 ] = 0.153\n",
      " Average Precision  (AP) @[ IoU=0.50:0.95 | area=medium | maxDets=100 ] = 0.385\n",
      " Average Precision  (AP) @[ IoU=0.50:0.95 | area= large | maxDets=100 ] = 0.516\n",
      " Average Recall     (AR) @[ IoU=0.50:0.95 | area=   all | maxDets=  1 ] = 0.286\n",
      " Average Recall     (AR) @[ IoU=0.50:0.95 | area=   all | maxDets= 10 ] = 0.453\n",
      " Average Recall     (AR) @[ IoU=0.50:0.95 | area=   all | maxDets=100 ] = 0.488\n",
      " Average Recall     (AR) @[ IoU=0.50:0.95 | area= small | maxDets=100 ] = 0.254\n",
      " Average Recall     (AR) @[ IoU=0.50:0.95 | area=medium | maxDets=100 ] = 0.546\n",
      " Average Recall     (AR) @[ IoU=0.50:0.95 | area= large | maxDets=100 ] = 0.662\n"
     ]
    }
   ],
   "source": [
    "pred_json = os.path.split(model_path)[-1].split('.')[0] + '_predictions.json'\n",
    "with open(pred_json, 'w+') as f:\n",
    "    json.dump(jdict, f)\n",
    "\n",
    "pred = anno.loadRes(pred_json)\n",
    "eval_obj = COCOeval(anno, pred, \"bbox\")\n",
    "eval_obj.params.imgIds = sorted(img_ids) # image IDs to evaluate\n",
    "eval_obj.evaluate()\n",
    "eval_obj.accumulate()\n",
    "eval_obj.summarize()"
   ]
  }
 ],
 "metadata": {
  "kernelspec": {
   "display_name": "devtools-venv",
   "language": "python",
   "name": "python3"
  },
  "language_info": {
   "codemirror_mode": {
    "name": "ipython",
    "version": 3
   },
   "file_extension": ".py",
   "mimetype": "text/x-python",
   "name": "python",
   "nbconvert_exporter": "python",
   "pygments_lexer": "ipython3",
   "version": "3.10.12"
  },
  "orig_nbformat": 4
 },
 "nbformat": 4,
 "nbformat_minor": 2
}
